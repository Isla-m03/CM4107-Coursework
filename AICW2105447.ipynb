{
 "cells": [
  {
   "cell_type": "markdown",
   "id": "1d1de9d4",
   "metadata": {},
   "source": [
    "Intoduction:\n",
    "In recent years businesses and researchers have become more dependant on Natural Language Processing (NLP) tools to gather insights from unstructured data. A type of NLP is sentiment analysis, this is very useful when it comes to understanding public opinions and customer satisfaction and can help assist in strategic decisions. This project focuses on developing an NLP-based solution that will  classify sentiment as either positive or negative by using the \"Sentiment Labelled Sentences\" dataset sourced from the UCI Machine Learning Repository.\n",
    "\n",
    "This dataset contains nearly 3000 sentences from IMDb, Amazon and Yelp reviews, each labelled with a sentiment score of either 0 (negative) or 1 (positive). The diversity in this dataset offers a solid foundation for assesing NLP models across different domains.\n",
    "\n",
    "To determine the best efficient method for sentiment classification, this work will compare  two different NLP pipelines. The motivation for solving this problem is the real-world uses of sentiment analysis in marketing and product reviews where accurate classification is crucial for useful insights. By exploring and evaluating different machine learning algorithms on this dataset, this work aims to provide a framework that focuses on data quality whilst aligning with the best AI system development practices."
   ]
  },
  {
   "cell_type": "code",
   "execution_count": 1,
   "id": "78fb58a2",
   "metadata": {
    "scrolled": true
   },
   "outputs": [],
   "source": [
    "import pandas as pd\n",
    "from sklearn.svm import SVC\n",
    "from sklearn.feature_extraction.text import TfidfVectorizer\n",
    "from sklearn.linear_model import LogisticRegression\n",
    "from sklearn.metrics import classification_report, accuracy_score, confusion_matrix, ConfusionMatrixDisplay\n",
    "from sklearn.model_selection import train_test_split\n",
    "import matplotlib.pyplot as plt\n",
    "import numpy as np"
   ]
  },
  {
   "cell_type": "code",
   "execution_count": 8,
   "id": "6dfad1a2",
   "metadata": {},
   "outputs": [],
   "source": [
    "# Define file paths\n",
    "file_path_imdb = \"D:/Uni/AI/sentiment+labelled+sentences/sentiment labelled sentences/imdb_labelled.txt\"\n",
    "file_path_amazon = \"D:/Uni/AI/sentiment+labelled+sentences/sentiment labelled sentences/amazon_cells_labelled.txt\"\n",
    "file_path_yelp = \"D:/Uni/AI/sentiment+labelled+sentences/sentiment labelled sentences/yelp_labelled.txt\""
   ]
  },
  {
   "cell_type": "code",
   "execution_count": 9,
   "id": "df1102a5",
   "metadata": {
    "scrolled": true
   },
   "outputs": [],
   "source": [
    "# Load the datasets\n",
    "columns = [\"Sentence\", \"Label\"]\n",
    "\n",
    "df_imdb = pd.read_csv(file_path_imdb, delimiter='\\t', header=None, names=columns)\n",
    "df_amazon = pd.read_csv(file_path_amazon, delimiter='\\t', header=None, names=columns)\n",
    "df_yelp = pd.read_csv(file_path_yelp, delimiter='\\t', header=None, names=columns)\n",
    "\n",
    "# Combine datasets into a single DataFrame\n",
    "df_combined = pd.concat([df_imdb, df_amazon, df_yelp], ignore_index=True)"
   ]
  },
  {
   "cell_type": "code",
   "execution_count": 10,
   "id": "77a2e096",
   "metadata": {},
   "outputs": [
    {
     "name": "stdout",
     "output_type": "stream",
     "text": [
      "Total Records: 2748\n",
      "                                            Sentence  Label\n",
      "0  A very, very, very slow-moving, aimless movie ...      0\n",
      "1  Not sure who was more lost - the flat characte...      0\n",
      "2  Attempting artiness with black & white and cle...      0\n",
      "3       Very little music or anything to speak of.        0\n",
      "4  The best scene in the movie was when Gerardo i...      1\n"
     ]
    }
   ],
   "source": [
    "# Display a summary of the dataset\n",
    "print(f\"Total Records: {len(df_combined)}\")\n",
    "print(df_combined.head())"
   ]
  },
  {
   "cell_type": "code",
   "execution_count": 11,
   "id": "7e1ac0c5",
   "metadata": {},
   "outputs": [
    {
     "name": "stdout",
     "output_type": "stream",
     "text": [
      "Training set size: 2198, Test set size: 550\n"
     ]
    }
   ],
   "source": [
    "# Preprocess the text data\n",
    "def preprocess_text(df):\n",
    "    df['Sentence'] = df['Sentence'].str.lower()  # Convert to lowercase\n",
    "    df['Sentence'] = df['Sentence'].str.replace(r'[^\\w\\s]', '', regex=True)  # Remove punctuation\n",
    "    df['Sentence'] = df['Sentence'].str.strip()  # Remove leading/trailing whitespace\n",
    "    return df\n",
    "\n",
    "df_combined = preprocess_text(df_combined)\n",
    "\n",
    "# Split the dataset into features and labels\n",
    "X = df_combined[\"Sentence\"]\n",
    "y = df_combined[\"Label\"]\n",
    "\n",
    "# Split into training and testing sets\n",
    "X_train, X_test, y_train, y_test = train_test_split(X, y, test_size=0.2, random_state=42)\n",
    "\n",
    "print(f\"Training set size: {len(X_train)}, Test set size: {len(X_test)}\")"
   ]
  },
  {
   "cell_type": "markdown",
   "id": "ffd9da20",
   "metadata": {},
   "source": [
    "Representation Learning:\n",
    "Representation learning is a crucial step in Natural Language Processing (NLP) that converts text into numerical representations suitable for machine learning models. Effective data seperation is made possible by creating representations that preserve meaningful patterns and distinctions. For this project i decided to use TF-IDF (Term Frequency-Inverse Document Frequency) to transform text into numberical vectors. This method asseses the value of words in relation to documents and favours unique terms while downplaying frequent uninformative ones (such as \"the\" or \"and\"). Addiotionally sequences of two words are used to capture contextual distinctions missed by single words. \n",
    "\n",
    "TF-IDF was chosen due to its computational efficiency and ability to create interpretable, sparse representations that are ideal for traditional machine learning models like Logistic Regression and Support Vector Machines. This being unlike neural-based models that require extensive training to learn embeddings.\n",
    "\n",
    "The lectures on feature extraction and separation are consistent with the theoretical basis of representation learning. By mathematically mapping words into high-dimensional vector spaces, TF-IDF enhances separability and facilitates classification tasks. While more advanced approaches like word embeddings capture semantic relationships, because of its simplicity and transparency TF-IDF remains effective for smaller datasets."
   ]
  },
  {
   "cell_type": "code",
   "execution_count": 12,
   "id": "f1a4f3fd",
   "metadata": {},
   "outputs": [
    {
     "name": "stdout",
     "output_type": "stream",
     "text": [
      "\n",
      "Pipeline 1: TF-IDF + Logistic Regression\n",
      "Accuracy: 0.8381818181818181\n",
      "              precision    recall  f1-score   support\n",
      "\n",
      "           0       0.82      0.88      0.85       286\n",
      "           1       0.86      0.80      0.83       264\n",
      "\n",
      "    accuracy                           0.84       550\n",
      "   macro avg       0.84      0.84      0.84       550\n",
      "weighted avg       0.84      0.84      0.84       550\n",
      "\n"
     ]
    },
    {
     "data": {
      "text/plain": [
       "array([1, 1, 0, 0, 0, 1, 0, 1, 1, 0, 0, 1, 0, 0, 1, 0, 0, 0, 0, 0, 1, 0,\n",
       "       0, 0, 0, 0, 1, 1, 0, 0, 0, 0, 1, 0, 1, 0, 0, 0, 0, 1, 0, 0, 1, 1,\n",
       "       0, 1, 1, 1, 0, 0, 0, 0, 1, 1, 1, 0, 1, 1, 1, 0, 1, 0, 1, 1, 1, 1,\n",
       "       1, 1, 1, 0, 1, 0, 0, 0, 0, 0, 0, 1, 1, 0, 0, 0, 0, 0, 0, 0, 0, 1,\n",
       "       1, 1, 1, 0, 1, 0, 0, 0, 0, 1, 1, 1, 1, 1, 0, 1, 1, 0, 1, 0, 0, 0,\n",
       "       1, 1, 0, 0, 1, 1, 1, 0, 1, 1, 0, 0, 1, 0, 1, 1, 0, 1, 1, 0, 0, 0,\n",
       "       1, 0, 0, 1, 1, 1, 0, 0, 0, 0, 1, 0, 0, 1, 1, 1, 0, 0, 1, 0, 1, 0,\n",
       "       0, 0, 0, 0, 0, 0, 0, 1, 0, 1, 0, 1, 0, 0, 0, 0, 0, 1, 1, 0, 1, 1,\n",
       "       0, 0, 0, 0, 1, 1, 0, 1, 1, 1, 1, 1, 0, 0, 1, 1, 0, 1, 1, 0, 0, 1,\n",
       "       1, 0, 0, 1, 0, 0, 0, 1, 1, 1, 1, 1, 1, 1, 1, 1, 0, 0, 1, 0, 0, 1,\n",
       "       1, 1, 1, 1, 0, 1, 0, 0, 0, 1, 0, 1, 1, 0, 1, 0, 0, 1, 0, 1, 0, 0,\n",
       "       0, 0, 0, 0, 0, 0, 1, 0, 0, 0, 1, 1, 0, 0, 1, 1, 0, 1, 0, 0, 1, 0,\n",
       "       0, 0, 0, 1, 0, 0, 1, 0, 1, 0, 0, 1, 1, 0, 0, 1, 0, 0, 0, 1, 0, 1,\n",
       "       1, 0, 0, 0, 1, 1, 0, 0, 0, 1, 0, 0, 1, 0, 0, 1, 1, 1, 0, 1, 1, 1,\n",
       "       1, 0, 1, 0, 0, 1, 0, 1, 0, 0, 1, 0, 0, 1, 1, 0, 1, 0, 0, 1, 1, 0,\n",
       "       0, 0, 0, 1, 0, 0, 0, 1, 0, 1, 0, 0, 1, 0, 0, 1, 1, 1, 0, 0, 0, 1,\n",
       "       0, 0, 0, 0, 0, 1, 1, 1, 0, 1, 0, 1, 0, 1, 1, 1, 1, 1, 1, 1, 0, 1,\n",
       "       1, 1, 0, 0, 0, 1, 0, 0, 0, 0, 1, 1, 0, 1, 1, 1, 1, 0, 0, 1, 0, 0,\n",
       "       1, 0, 1, 1, 1, 1, 0, 0, 1, 0, 1, 1, 1, 1, 0, 0, 0, 1, 0, 1, 0, 0,\n",
       "       0, 1, 1, 1, 1, 0, 0, 1, 1, 0, 0, 1, 0, 1, 1, 0, 0, 0, 0, 0, 0, 1,\n",
       "       0, 0, 0, 0, 0, 0, 1, 0, 0, 0, 1, 1, 0, 0, 0, 0, 0, 1, 0, 0, 1, 0,\n",
       "       0, 1, 1, 0, 1, 0, 0, 0, 0, 0, 0, 0, 0, 1, 1, 0, 0, 0, 0, 0, 0, 0,\n",
       "       0, 1, 0, 1, 0, 1, 1, 1, 0, 1, 0, 1, 1, 1, 1, 0, 0, 1, 0, 0, 0, 0,\n",
       "       0, 0, 0, 1, 1, 0, 1, 0, 0, 0, 0, 0, 1, 1, 1, 1, 0, 1, 0, 0, 1, 0,\n",
       "       0, 1, 1, 1, 1, 0, 0, 1, 1, 0, 0, 0, 1, 0, 1, 1, 0, 1, 1, 0, 1, 1],\n",
       "      dtype=int64)"
      ]
     },
     "execution_count": 12,
     "metadata": {},
     "output_type": "execute_result"
    }
   ],
   "source": [
    "# --- Step 2: Pipeline 1 - TF-IDF + Logistic Regression with Explainability ---\n",
    "def pipeline_1_with_feature_importance(X_train, X_test, y_train, y_test):\n",
    "    # TF-IDF vectorization\n",
    "    vectorizer = TfidfVectorizer(max_features=5000, ngram_range=(1, 2))\n",
    "    X_train_vec = vectorizer.fit_transform(X_train)\n",
    "    X_test_vec = vectorizer.transform(X_test)\n",
    "\n",
    "    # Logistic Regression model\n",
    "    model = LogisticRegression(max_iter=1000)\n",
    "    model.fit(X_train_vec, y_train)\n",
    "\n",
    "    # Model evaluation\n",
    "    y_pred = model.predict(X_test_vec)\n",
    "    print(\"\\nPipeline 1: TF-IDF + Logistic Regression\")\n",
    "    print(\"Accuracy:\", accuracy_score(y_test, y_pred))\n",
    "    print(classification_report(y_test, y_pred))\n",
    "    \n",
    "    # Ensure predictions are returned\n",
    "    return y_pred\n",
    "\n",
    "    # Extract and visualize feature importance\n",
    "    feature_names = vectorizer.get_feature_names_out()\n",
    "    feature_importances = np.abs(model.coef_).flatten()\n",
    "\n",
    "    # Top 10 important features\n",
    "    top_indices = np.argsort(feature_importances)[-10:]\n",
    "    top_features = feature_names[top_indices]\n",
    "    top_scores = feature_importances[top_indices]\n",
    "\n",
    "    # Plot feature importance\n",
    "    plt.figure(figsize=(10, 6))\n",
    "    plt.barh(top_features, top_scores, color='blue')\n",
    "    plt.xlabel(\"Feature Importance Score\")\n",
    "    plt.ylabel(\"Features\")\n",
    "    plt.title(\"Top 10 Important Features (Logistic Regression)\")\n",
    "    plt.show()\n",
    "\n",
    "pipeline_1_with_feature_importance(X_train, X_test, y_train, y_test)"
   ]
  },
  {
   "cell_type": "code",
   "execution_count": 13,
   "id": "315b3cce",
   "metadata": {},
   "outputs": [
    {
     "name": "stdout",
     "output_type": "stream",
     "text": [
      "\n",
      "Pipeline 2: TF-IDF + SVM\n",
      "Accuracy: 0.8436363636363636\n",
      "              precision    recall  f1-score   support\n",
      "\n",
      "           0       0.82      0.89      0.86       286\n",
      "           1       0.87      0.79      0.83       264\n",
      "\n",
      "    accuracy                           0.84       550\n",
      "   macro avg       0.85      0.84      0.84       550\n",
      "weighted avg       0.85      0.84      0.84       550\n",
      "\n"
     ]
    },
    {
     "data": {
      "text/plain": [
       "array([1, 1, 0, 1, 0, 1, 0, 1, 1, 0, 0, 1, 0, 0, 1, 0, 0, 0, 0, 0, 0, 0,\n",
       "       0, 0, 0, 0, 1, 0, 0, 0, 0, 0, 0, 0, 1, 0, 0, 0, 0, 0, 0, 0, 1, 1,\n",
       "       0, 1, 1, 1, 0, 0, 0, 0, 1, 1, 1, 0, 1, 0, 1, 0, 0, 0, 1, 1, 1, 1,\n",
       "       1, 0, 1, 0, 1, 0, 0, 0, 0, 0, 0, 1, 1, 0, 0, 0, 0, 0, 0, 0, 0, 1,\n",
       "       1, 1, 1, 0, 0, 0, 0, 0, 0, 1, 1, 1, 1, 1, 0, 1, 1, 0, 1, 0, 0, 0,\n",
       "       1, 1, 0, 0, 1, 1, 1, 0, 1, 1, 0, 0, 1, 0, 1, 1, 0, 1, 1, 0, 0, 0,\n",
       "       1, 0, 0, 1, 1, 1, 0, 0, 0, 0, 1, 1, 0, 1, 1, 1, 0, 0, 1, 1, 1, 0,\n",
       "       1, 0, 0, 0, 0, 0, 0, 0, 0, 1, 0, 1, 0, 0, 0, 0, 0, 1, 1, 0, 1, 1,\n",
       "       0, 1, 0, 0, 1, 1, 0, 1, 1, 1, 1, 1, 0, 0, 1, 1, 0, 1, 1, 0, 0, 1,\n",
       "       1, 1, 0, 1, 0, 1, 0, 1, 1, 1, 0, 1, 1, 1, 1, 1, 0, 0, 1, 0, 0, 1,\n",
       "       1, 1, 1, 1, 1, 1, 0, 0, 0, 1, 0, 1, 1, 0, 1, 0, 0, 1, 0, 1, 0, 0,\n",
       "       0, 0, 0, 0, 0, 0, 1, 0, 0, 0, 1, 1, 0, 0, 1, 1, 0, 1, 0, 0, 1, 0,\n",
       "       0, 0, 0, 1, 0, 0, 1, 0, 1, 0, 0, 1, 1, 0, 0, 1, 0, 0, 0, 0, 0, 1,\n",
       "       1, 0, 0, 0, 1, 1, 0, 0, 0, 1, 0, 0, 1, 0, 0, 1, 1, 1, 0, 1, 1, 1,\n",
       "       1, 0, 1, 0, 0, 1, 0, 1, 0, 0, 0, 0, 0, 1, 1, 0, 1, 0, 0, 0, 1, 0,\n",
       "       0, 1, 0, 1, 0, 0, 0, 1, 0, 1, 1, 0, 0, 0, 0, 1, 1, 1, 0, 0, 0, 1,\n",
       "       0, 0, 0, 0, 0, 1, 1, 1, 0, 0, 0, 1, 0, 1, 1, 1, 1, 1, 1, 1, 0, 1,\n",
       "       1, 1, 0, 0, 0, 1, 0, 0, 0, 0, 1, 1, 0, 1, 1, 1, 0, 0, 0, 1, 0, 0,\n",
       "       1, 0, 1, 1, 1, 1, 0, 0, 1, 0, 0, 1, 1, 1, 0, 0, 0, 1, 0, 1, 0, 0,\n",
       "       0, 1, 1, 1, 1, 0, 0, 1, 1, 0, 0, 1, 0, 1, 1, 0, 0, 0, 0, 0, 0, 1,\n",
       "       0, 0, 1, 0, 0, 0, 1, 1, 0, 0, 1, 1, 0, 0, 0, 0, 0, 1, 0, 0, 1, 1,\n",
       "       0, 1, 0, 0, 1, 0, 0, 0, 0, 0, 0, 0, 0, 1, 1, 0, 0, 1, 1, 0, 0, 0,\n",
       "       0, 1, 0, 1, 0, 1, 1, 1, 0, 0, 0, 1, 1, 1, 1, 0, 0, 0, 0, 0, 0, 0,\n",
       "       0, 0, 0, 0, 1, 0, 1, 0, 0, 0, 0, 0, 1, 1, 1, 1, 0, 1, 0, 0, 1, 0,\n",
       "       0, 1, 1, 1, 1, 0, 0, 1, 1, 0, 0, 0, 1, 1, 1, 1, 0, 1, 1, 0, 1, 1],\n",
       "      dtype=int64)"
      ]
     },
     "execution_count": 13,
     "metadata": {},
     "output_type": "execute_result"
    }
   ],
   "source": [
    "# --- Step 3: Pipeline 2 - TF-IDF + SVM ---\n",
    "def pipeline_2_with_svm(X_train, X_test, y_train, y_test):\n",
    "    # TF-IDF vectorization\n",
    "    vectorizer = TfidfVectorizer(max_features=5000, ngram_range=(1, 2))\n",
    "    X_train_vec = vectorizer.fit_transform(X_train)\n",
    "    X_test_vec = vectorizer.transform(X_test)\n",
    "\n",
    "    # SVM model\n",
    "    model = SVC(kernel='linear', probability=True)\n",
    "    model.fit(X_train_vec, y_train)\n",
    "\n",
    "    # Model evaluation\n",
    "    y_pred = model.predict(X_test_vec)\n",
    "    print(\"\\nPipeline 2: TF-IDF + SVM\")\n",
    "    print(\"Accuracy:\", accuracy_score(y_test, y_pred))\n",
    "    print(classification_report(y_test, y_pred))\n",
    "\n",
    "    # Ensure predictions are returned\n",
    "    return y_pred\n",
    "\n",
    "    # Feature importance approximation using SVM coefficients\n",
    "    if hasattr(model, 'coef_'):\n",
    "        feature_names = vectorizer.get_feature_names_out()\n",
    "        feature_importances = np.abs(model.coef_.toarray()).flatten()\n",
    "\n",
    "        # Top 10 important features\n",
    "        top_indices = np.argsort(feature_importances)[-10:]\n",
    "        top_features = feature_names[top_indices]\n",
    "        top_scores = feature_importances[top_indices]\n",
    "\n",
    "        # Plot feature importance\n",
    "        plt.figure(figsize=(10, 6))\n",
    "        plt.barh(top_features, top_scores, color='green')\n",
    "        plt.xlabel(\"Feature Importance Score\")\n",
    "        plt.ylabel(\"Features\")\n",
    "        plt.title(\"Top 10 Important Features (SVM)\")\n",
    "        plt.show()\n",
    "\n",
    "pipeline_2_with_svm(X_train, X_test, y_train, y_test)"
   ]
  },
  {
   "cell_type": "markdown",
   "id": "af42ecbd",
   "metadata": {},
   "source": [
    "Algorithms:\n",
    "Logistic Regression and Support Vector Machines (SVM) are two commonly used algorithms for classification tasks, each with unique strengths and applications. Logistic Regression is a statistical model designed for binary classification, predicting probabilities that an instance belongs to a particular class. It employs the logit function to map linear outputs to probabilities between 0 and 1. The model optimizes a log-likelihood function, ensuring minimal error between predicted probabilities and actual labels. Its linear decision boundary makes it computationally efficient and understandable, as the model's coefficients provide insight into the importance of individual features, such as specific words in a TF-IDF representation.\n",
    "\n",
    "Support Vector Machines, on the other hand, focus on finding the optimal hyperplane that maximizes the margin between classes, using only the most critical data points, known as support vectors. This approach enhances generalization, especially in high-dimensional feature spaces like those generated by TF-IDF. For datasets where classes are not linearly separable, SVM leverages kernel functions, such as polynomial or radial basis function (RBF) kernels, to map data into higher-dimensional spaces where separation becomes feasible. This flexibility makes SVM a powerful tool for handling complex patterns in textual data.\n",
    "\n",
    "Both algorithms are well-suited for text classification tasks. Logistic Regression excels in simplicity, computational efficiency, and interpretability, making it ideal for straightforward problems with linearly separable data. However, its reliance on linear decision boundaries limits its applicability to more complex datasets. SVM, in contrast, handles both linear and non-linear data effectively, particularly in high-dimensional spaces, but its computational cost can become significant for large datasets. Additionally, SVM's performance heavily depends on careful kernel selection and hyperparameter tuning, and it lacks the interpretability offered by Logistic Regression.\n",
    "\n",
    "In summary, Logistic Regression provides a simple yet effective solution for sentiment classification tasks, leveraging the sparsity and interpretability of TF-IDF features. SVM offers a more flexible and robust alternative, capable of handling complex decision boundaries and high-dimensional data. The choice between these algorithms depends on the dataset's characteristics and the specific needs of the task, balancing the trade-offs between computational cost, interpretability, and performance. Together, these models form a strong foundation for comparative evaluation in this project.\n"
   ]
  },
  {
   "cell_type": "code",
   "execution_count": 14,
   "id": "66af2106",
   "metadata": {},
   "outputs": [
    {
     "name": "stdout",
     "output_type": "stream",
     "text": [
      "\n",
      "Evaluating Logistic Regression...\n",
      "\n",
      "Pipeline 1: TF-IDF + Logistic Regression\n",
      "Accuracy: 0.8381818181818181\n",
      "              precision    recall  f1-score   support\n",
      "\n",
      "           0       0.82      0.88      0.85       286\n",
      "           1       0.86      0.80      0.83       264\n",
      "\n",
      "    accuracy                           0.84       550\n",
      "   macro avg       0.84      0.84      0.84       550\n",
      "weighted avg       0.84      0.84      0.84       550\n",
      "\n",
      "\n",
      "Logistic Regression Model Evaluation\n",
      "Accuracy: 0.8381818181818181\n",
      "              precision    recall  f1-score   support\n",
      "\n",
      "           0       0.82      0.88      0.85       286\n",
      "           1       0.86      0.80      0.83       264\n",
      "\n",
      "    accuracy                           0.84       550\n",
      "   macro avg       0.84      0.84      0.84       550\n",
      "weighted avg       0.84      0.84      0.84       550\n",
      "\n"
     ]
    },
    {
     "data": {
      "image/png": "[encoded data removed]",
      "text/plain": [
       "<Figure size 640x480 with 2 Axes>"
      ]
     },
     "metadata": {},
     "output_type": "display_data"
    },
    {
     "name": "stdout",
     "output_type": "stream",
     "text": [
      "\n",
      "Evaluating SVM...\n",
      "\n",
      "Pipeline 2: TF-IDF + SVM\n",
      "Accuracy: 0.8436363636363636\n",
      "              precision    recall  f1-score   support\n",
      "\n",
      "           0       0.82      0.89      0.86       286\n",
      "           1       0.87      0.79      0.83       264\n",
      "\n",
      "    accuracy                           0.84       550\n",
      "   macro avg       0.85      0.84      0.84       550\n",
      "weighted avg       0.85      0.84      0.84       550\n",
      "\n",
      "\n",
      "SVM Model Evaluation\n",
      "Accuracy: 0.8436363636363636\n",
      "              precision    recall  f1-score   support\n",
      "\n",
      "           0       0.82      0.89      0.86       286\n",
      "           1       0.87      0.79      0.83       264\n",
      "\n",
      "    accuracy                           0.84       550\n",
      "   macro avg       0.85      0.84      0.84       550\n",
      "weighted avg       0.85      0.84      0.84       550\n",
      "\n"
     ]
    },
    {
     "data": {
      "image/png": "[encoded data removed]",
      "text/plain": [
       "<Figure size 640x480 with 2 Axes>"
      ]
     },
     "metadata": {},
     "output_type": "display_data"
    }
   ],
   "source": [
    "# Function to evaluate and display confusion matrix\n",
    "def evaluate_model(name, y_test, y_pred):\n",
    "    print(f\"\\n{name} Model Evaluation\")\n",
    "    print(\"Accuracy:\", accuracy_score(y_test, y_pred))\n",
    "    print(classification_report(y_test, y_pred))\n",
    "    \n",
    "    # Confusion Matrix\n",
    "    cm = confusion_matrix(y_test, y_pred)\n",
    "    disp = ConfusionMatrixDisplay(confusion_matrix=cm, display_labels=[\"Negative\", \"Positive\"])\n",
    "    disp.plot(cmap=\"Blues\")\n",
    "    plt.title(f\"{name} Confusion Matrix\")\n",
    "    plt.show()\n",
    "\n",
    "# Evaluate Logistic Regression\n",
    "print(\"\\nEvaluating Logistic Regression...\")\n",
    "y_pred_lr = pipeline_1_with_feature_importance(X_train, X_test, y_train, y_test)\n",
    "evaluate_model(\"Logistic Regression\", y_test, y_pred_lr)\n",
    "\n",
    "# Evaluate SVM\n",
    "print(\"\\nEvaluating SVM...\")\n",
    "y_pred_svm = pipeline_2_with_svm(X_train, X_test, y_train, y_test)\n",
    "evaluate_model(\"SVM\", y_test, y_pred_svm)\n"
   ]
  },
  {
   "cell_type": "markdown",
   "id": "36176d9e",
   "metadata": {},
   "source": [
    "Evaluation:\n",
    "The evaluation process involved comparing the performance of two distinct pipelines: TF-IDF with Logistic Regression and TF-IDF with SVM. Both models were trained on 80% of the dataset and evaluated on the remaining 20% using accuracy, precision, recall, and F1-score as metrics. These metrics assess the models' ability to correctly classify sentiments (positive or negative) and handle class imbalances effectively. Additionally, confusion matrices provided insights into prediction errors and misclassification patterns.\n",
    "\n",
    "Logistic Regression achieved an accuracy of 83.8%, with precision and recall scores balanced across positive and negative classes, resulting in an F1-score of 0.84. The model’s linear decision boundary worked well with the high-dimensional TF-IDF vectors. However, slight misclassifications were observed in identifying negative sentiments, as indicated by the confusion matrix.\n",
    "\n",
    "SVM produced comparable results, leveraging its margin-based classification to generalize effectively. Its flexibility with high-dimensional data made it suitable for TF-IDF representations. While the accuracy and F1-scores were similar to Logistic Regression, SVM demonstrated slightly improved performance in handling borderline cases.\n",
    "\n",
    "Overall, both models performed well, but SVM exhibited marginal advantages in precision and recall, making it slightly better for this dataset. The results highlight the importance of selecting appropriate algorithms for text classification tasks."
   ]
  }
 ],
 "metadata": {
  "kernelspec": {
   "display_name": "Python 3 (ipykernel)",
   "language": "python",
   "name": "python3"
  },
  "language_info": {
   "codemirror_mode": {
    "name": "ipython",
    "version": 3
   },
   "file_extension": ".py",
   "mimetype": "text/x-python",
   "name": "python",
   "nbconvert_exporter": "python",
   "pygments_lexer": "ipython3",
   "version": "3.11.5"
  }
 },
 "nbformat": 4,
 "nbformat_minor": 5
}
